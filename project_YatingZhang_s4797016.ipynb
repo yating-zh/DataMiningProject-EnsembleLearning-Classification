{
 "cells": [
  {
   "cell_type": "code",
   "execution_count": 1,
   "id": "57642849-3dec-4607-b1bb-928e84581987",
   "metadata": {},
   "outputs": [],
   "source": [
    "import pandas as pd\n",
    "import numpy as np\n",
    "from sklearn.preprocessing import OneHotEncoder, MinMaxScaler, StandardScaler\n",
    "from sklearn.model_selection import train_test_split\n",
    "from sklearn import metrics\n",
    "from sklearn.tree import DecisionTreeClassifier \n",
    "from sklearn.ensemble import RandomForestClassifier\n",
    "from sklearn.neighbors import KNeighborsClassifier \n",
    "from sklearn.naive_bayes import GaussianNB \n",
    "from sklearn.model_selection import cross_val_score, cross_val_predict\n",
    "from sklearn.model_selection import GridSearchCV\n",
    "from sklearn.metrics import accuracy_score, f1_score\n",
    "from collections import Counter"
   ]
  },
  {
   "cell_type": "code",
   "execution_count": 2,
   "id": "70fa83d1-12ea-4d77-ba9d-c1af056ad630",
   "metadata": {},
   "outputs": [],
   "source": [
    "# concatenate train.csv and add_train.csv\n",
    "df_t1 = pd.read_csv('train.csv')\n",
    "df_t2 = pd.read_csv('add_train.csv')\n",
    "df = pd.concat([df_t1, df_t2], ignore_index=True)\n",
    "# print(df_t2.info())\n",
    "# print(df_t1.info())\n",
    "# print(df.info())"
   ]
  },
  {
   "cell_type": "code",
   "execution_count": 3,
   "id": "d148d092-3cf0-42d4-aa08-797009f9a206",
   "metadata": {},
   "outputs": [],
   "source": [
    "# Step 1. split data train set/ test set"
   ]
  },
  {
   "cell_type": "code",
   "execution_count": 4,
   "id": "f6911a68-cfdf-4dd0-bf7b-4765822914c7",
   "metadata": {},
   "outputs": [],
   "source": [
    "y = df.iloc[:,-1].values  # label col\n",
    "X_num = df.iloc[:,:100].values #numerical cols \n",
    "X_nom = df.iloc[:,100:-1].values #nominal cols \n",
    "X_num_train, X_num_test, X_nom_train, X_nom_test, y_train, y_test = train_test_split(X_num, X_nom, y, random_state = 0)\n",
    "\n",
    "X_train = np.concatenate((X_num_train, X_nom_train), axis = 1) \n",
    "X_test = np.concatenate((X_num_test, X_nom_test), axis = 1)"
   ]
  },
  {
   "cell_type": "code",
   "execution_count": 5,
   "id": "06de3094-8382-44d7-9724-0203a2ec2d07",
   "metadata": {},
   "outputs": [],
   "source": [
    "feature_column_names=list(df.columns[:128])\n",
    "label_column_names=list(df.columns[-1:])\n",
    "\n",
    "df_x_train=pd.DataFrame(X_train, columns=feature_column_names)\n",
    "df_x_test=pd.DataFrame(X_test, columns=feature_column_names)\n",
    "\n",
    "df_y_train=pd.DataFrame(y_train, columns=label_column_names)\n",
    "df_y_test=pd.DataFrame(y_test, columns=label_column_names)\n",
    "\n",
    "df_train=pd.concat([df_x_train, df_y_train], axis=1)\n",
    "df_test=pd.concat([df_x_test, df_y_test], axis=1)\n",
    "\n",
    "# print(df_train.describe().round(2)) # train set\n",
    "# print(df_test.describe().round(2))  # test set\n",
    "# print(df_test.info())   #25%\n",
    "# print(df_train.info())  #75%\n"
   ]
  },
  {
   "cell_type": "code",
   "execution_count": 6,
   "id": "e26ab7d8-d7ae-4d1c-b376-10be853f67e8",
   "metadata": {},
   "outputs": [],
   "source": [
    "# Step 2. imputation separately for train set/test set START"
   ]
  },
  {
   "cell_type": "code",
   "execution_count": 7,
   "id": "59ef76f5-22d3-46da-aae2-4b76b108d6d1",
   "metadata": {},
   "outputs": [
    {
     "name": "stdout",
     "output_type": "stream",
     "text": [
      "<class 'pandas.core.frame.DataFrame'>\n",
      "RangeIndex: 3045 entries, 0 to 3044\n",
      "Columns: 129 entries, Num_Col_0 to Label\n",
      "dtypes: float64(129)\n",
      "memory usage: 3.0 MB\n",
      "None\n"
     ]
    }
   ],
   "source": [
    "# imputation for train set\n",
    "#  train-numerical\n",
    "df_train_impu = df_train.copy() \n",
    "df_train_impu.iloc[:,:100] = df_train_impu.iloc[:,:100].fillna(df_train_impu.iloc[:,:100].mean()) \n",
    "\n",
    "#  train-nominal\n",
    "df_train_impu.iloc[:,-29:] = df_train_impu.iloc[:,-29:].fillna(df_train_impu.iloc[:,-29:].mode().iloc[0])\n",
    "df_train=df_train_impu\n",
    "y_train = df_train.iloc[:,-1].values  # label col\n",
    "X_num_train = df_train.iloc[:,:100].values #numerical cols \n",
    "X_nom_train = df_train.iloc[:,100:-1].values #nominal cols \n",
    "# print(df_train.head(10))\n",
    "print(df_train.info())\n",
    "# print(X_nom_train)"
   ]
  },
  {
   "cell_type": "code",
   "execution_count": 8,
   "id": "39c47ea7-9dc5-442f-b772-e72d7a189083",
   "metadata": {},
   "outputs": [
    {
     "name": "stdout",
     "output_type": "stream",
     "text": [
      "<class 'pandas.core.frame.DataFrame'>\n",
      "RangeIndex: 1015 entries, 0 to 1014\n",
      "Columns: 129 entries, Num_Col_0 to Label\n",
      "dtypes: float64(129)\n",
      "memory usage: 1023.1 KB\n",
      "None\n"
     ]
    }
   ],
   "source": [
    "# imputation for test set\n",
    "#  test-numerical\n",
    "df_test_impu = df_test.copy() \n",
    "df_test_impu.iloc[:,:100] = df_test_impu.iloc[:,:100].fillna(df_test_impu.iloc[:,:100].mean()) \n",
    "\n",
    "#  test-nominal\n",
    "df_test_impu.iloc[:,-29:] = df_test_impu.iloc[:,-29:].fillna(df_test_impu.iloc[:,-29:].mode().iloc[0])\n",
    "df_test=df_test_impu\n",
    "y_test = df_test.iloc[:,-1].values  # label col\n",
    "X_num_test = df_test.iloc[:,:100].values #numerical cols \n",
    "X_nom_test = df_test.iloc[:,100:-1].values #nominal cols \n",
    "# print(df_test.head(10))\n",
    "# print(X_nom_test)\n",
    "print(df_test.info())"
   ]
  },
  {
   "cell_type": "code",
   "execution_count": 9,
   "id": "5a2ab460-334b-463e-8ec0-ac1a9f699c62",
   "metadata": {},
   "outputs": [],
   "source": [
    "# Step 3. normalisatin for numerical cols"
   ]
  },
  {
   "cell_type": "code",
   "execution_count": 10,
   "id": "318ea3b6-52a9-4173-8a25-6d3035a80c01",
   "metadata": {},
   "outputs": [],
   "source": [
    "# standardization (or z-score normalization) numerical features\n",
    "scaler = StandardScaler() \n",
    "scaler.fit(X_num_train) \n",
    "X_num_train = scaler.transform(X_num_train) \n",
    "X_num_test = scaler.transform(X_num_test)\n",
    "\n",
    "X_train = np.concatenate((X_num_train, X_nom_train), axis = 1) \n",
    "X_test = np.concatenate((X_num_test, X_nom_test), axis = 1)"
   ]
  },
  {
   "cell_type": "code",
   "execution_count": 11,
   "id": "013ea05e-b673-40fd-a119-b822452a6f54",
   "metadata": {},
   "outputs": [],
   "source": [
    "# re-build data frame after normalisation\n",
    "df_x_train=pd.DataFrame(X_train, columns=feature_column_names)\n",
    "df_x_test=pd.DataFrame(X_test, columns=feature_column_names)\n",
    "\n",
    "df_train=pd.concat([df_x_train, df_y_train], axis=1)\n",
    "df_test=pd.concat([df_x_test, df_y_test], axis=1)\n",
    "\n",
    "# print(df_train.describe().round(2)) # train set\n",
    "# print(df_test.describe().round(2))  # test set\n",
    "# print(df_test.info())\n"
   ]
  },
  {
   "cell_type": "code",
   "execution_count": 12,
   "id": "63787d7f-1deb-49e4-938f-84e5b28f744e",
   "metadata": {},
   "outputs": [],
   "source": [
    "# Step 4. One-hot encoding for nominal cols"
   ]
  },
  {
   "cell_type": "code",
   "execution_count": 13,
   "id": "1b7166dc-e6b8-459a-951d-6bf1cf12c39c",
   "metadata": {},
   "outputs": [],
   "source": [
    "# for train set\n",
    "nominal_columns = list(range(100, 128)) #nominal features from col_100 to col_127\n",
    "# print(nominal_columns)\n",
    "\n",
    "# for nominal features\n",
    "ohe=OneHotEncoder()\n",
    "encoded_features = pd.DataFrame() \n",
    "# feature_array = ohe.fit_transform(df_train.iloc[:,3].to_frame()).toarray()\n",
    "for column_index in nominal_columns:\n",
    "    # Encode the current (nominal) column\n",
    "    feature_array = ohe.fit_transform(df_train.iloc[:, column_index].to_frame()).toarray()\n",
    "    feature_labels = [f'col_{column_index}_{i}' for i in range(feature_array.shape[1])]\n",
    "    encoded_column = pd.DataFrame(feature_array, columns=feature_labels)\n",
    "    encoded_features = pd.concat([encoded_features, encoded_column], axis=1)\n",
    "\n",
    "df_train_new=pd.concat([df_train.iloc[:,:100],encoded_features,df_train.iloc[:,[128]]],axis = 1)\n",
    "df_train=df_train_new\n",
    "# print(encoded_features.info()) "
   ]
  },
  {
   "cell_type": "code",
   "execution_count": 14,
   "id": "446eb426-5c0a-4d41-9909-a87216ed3376",
   "metadata": {},
   "outputs": [],
   "source": [
    "# for test set\n",
    "# for nominal features\n",
    "ohe=OneHotEncoder()\n",
    "encoded_features = pd.DataFrame() \n",
    "feature_array = ohe.fit_transform(df_test.iloc[:,3].to_frame()).toarray()\n",
    "for column_index in nominal_columns:\n",
    "    # Encode the current (nominal) column\n",
    "    feature_array = ohe.fit_transform(df_test.iloc[:, column_index].to_frame()).toarray()\n",
    "    feature_labels = [f'col_{column_index}_{i}' for i in range(feature_array.shape[1])]\n",
    "    encoded_column = pd.DataFrame(feature_array, columns=feature_labels)\n",
    "    encoded_features = pd.concat([encoded_features, encoded_column], axis=1)\n",
    "\n",
    "df_test_new=pd.concat([df_test.iloc[:,:100],encoded_features,df_test.iloc[:,[128]]],axis = 1)\n",
    "df_test=df_test_new\n",
    "# print(encoded_features.info()) "
   ]
  },
  {
   "cell_type": "code",
   "execution_count": 15,
   "id": "45c16112-f71a-4ad1-b36a-f34d53d55afb",
   "metadata": {},
   "outputs": [],
   "source": [
    "# print(df_train.head(10))\n",
    "# print(df_train.info())\n",
    "\n",
    "# print(df_test.head(10))\n",
    "# print(df_test.info())"
   ]
  },
  {
   "cell_type": "code",
   "execution_count": 16,
   "id": "c2fd4855-9b79-49fd-a2b3-5f88631386ee",
   "metadata": {},
   "outputs": [],
   "source": [
    "# Pre-processing END\n",
    "# Classifier START"
   ]
  },
  {
   "cell_type": "code",
   "execution_count": 17,
   "id": "188b480a-5681-40ce-9210-6803b24019b1",
   "metadata": {},
   "outputs": [],
   "source": [
    "# Decision tree"
   ]
  },
  {
   "cell_type": "code",
   "execution_count": 18,
   "id": "29c4b012-f208-400f-8380-15cee69ceece",
   "metadata": {},
   "outputs": [],
   "source": [
    "X_train = df_train.iloc[:,:186].values  #all the columns values except the label\n",
    "y_train = df_train.iloc[:,-1:].values\n",
    "y_train = y_train.ravel()   \n",
    "\n",
    "X_test = df_test.iloc[:,:186].values  #all the columns values except the label\n",
    "y_test = df_test.iloc[:,-1:].values"
   ]
  },
  {
   "cell_type": "code",
   "execution_count": 19,
   "id": "40e5c035-1929-45ee-a6bb-ec9bc933b53e",
   "metadata": {},
   "outputs": [],
   "source": [
    "dt = DecisionTreeClassifier(random_state = 0)\n",
    "dt = dt.fit(X_train, y_train)"
   ]
  },
  {
   "cell_type": "code",
   "execution_count": 20,
   "id": "ee5cf077-9404-4874-93bb-3acf7b7fb8a3",
   "metadata": {},
   "outputs": [],
   "source": [
    "y_pred_dt = dt.predict(X_test)  "
   ]
  },
  {
   "cell_type": "code",
   "execution_count": 21,
   "id": "15152381-645b-4033-a388-2179755c7125",
   "metadata": {},
   "outputs": [
    {
     "name": "stdout",
     "output_type": "stream",
     "text": [
      "The test macro f1-score of decision tree on the dataset is:  0.7775006595049947\n"
     ]
    }
   ],
   "source": [
    "# evaluation - f1-score\n",
    "f1_dt = metrics.f1_score(y_test, y_pred_dt, average='macro') \n",
    "print(\"The test macro f1-score of decision tree on the dataset is: \", f1_dt)"
   ]
  },
  {
   "cell_type": "code",
   "execution_count": 22,
   "id": "0193fb0a-5997-4fba-8131-76681fd6eebe",
   "metadata": {},
   "outputs": [],
   "source": [
    "# random forest"
   ]
  },
  {
   "cell_type": "code",
   "execution_count": 23,
   "id": "f5993c9f-bc3c-4e07-80de-d0978d72ffd6",
   "metadata": {},
   "outputs": [],
   "source": [
    "rf = RandomForestClassifier(random_state=0) \n",
    "rf = rf.fit(X_train,y_train)"
   ]
  },
  {
   "cell_type": "code",
   "execution_count": 24,
   "id": "b5cb55c3-baa7-473a-92c1-8e57d77e67b5",
   "metadata": {},
   "outputs": [
    {
     "name": "stdout",
     "output_type": "stream",
     "text": [
      "[7. 1. 7. ... 3. 6. 5.]\n"
     ]
    }
   ],
   "source": [
    "y_pred_rf = rf.predict(X_test)\n",
    "print(y_pred_rf)"
   ]
  },
  {
   "cell_type": "code",
   "execution_count": 25,
   "id": "082e24f7-6c7e-4178-8328-509986202a4b",
   "metadata": {},
   "outputs": [
    {
     "name": "stdout",
     "output_type": "stream",
     "text": [
      "The test macro f1-score of random forest on the dataset is:  0.9689524363042947\n"
     ]
    }
   ],
   "source": [
    "f1_rf = metrics.f1_score(y_test, y_pred_rf, average='macro') \n",
    "print(\"The test macro f1-score of random forest on the dataset is: \", f1_rf)"
   ]
  },
  {
   "cell_type": "code",
   "execution_count": 26,
   "id": "aad5a2ae-f477-4246-9708-25c2357bff22",
   "metadata": {},
   "outputs": [],
   "source": [
    "# k-NN 5"
   ]
  },
  {
   "cell_type": "code",
   "execution_count": 27,
   "id": "f00f856d-87e9-4a32-9035-ed01e76cda21",
   "metadata": {},
   "outputs": [],
   "source": [
    "kNN_5 = KNeighborsClassifier(n_neighbors = 5)   # k defaule is 5"
   ]
  },
  {
   "cell_type": "code",
   "execution_count": 28,
   "id": "4b8b55ac-423b-48ee-a332-2a09573cba6d",
   "metadata": {},
   "outputs": [
    {
     "data": {
      "text/html": [
       "<style>#sk-container-id-1 {color: black;}#sk-container-id-1 pre{padding: 0;}#sk-container-id-1 div.sk-toggleable {background-color: white;}#sk-container-id-1 label.sk-toggleable__label {cursor: pointer;display: block;width: 100%;margin-bottom: 0;padding: 0.3em;box-sizing: border-box;text-align: center;}#sk-container-id-1 label.sk-toggleable__label-arrow:before {content: \"▸\";float: left;margin-right: 0.25em;color: #696969;}#sk-container-id-1 label.sk-toggleable__label-arrow:hover:before {color: black;}#sk-container-id-1 div.sk-estimator:hover label.sk-toggleable__label-arrow:before {color: black;}#sk-container-id-1 div.sk-toggleable__content {max-height: 0;max-width: 0;overflow: hidden;text-align: left;background-color: #f0f8ff;}#sk-container-id-1 div.sk-toggleable__content pre {margin: 0.2em;color: black;border-radius: 0.25em;background-color: #f0f8ff;}#sk-container-id-1 input.sk-toggleable__control:checked~div.sk-toggleable__content {max-height: 200px;max-width: 100%;overflow: auto;}#sk-container-id-1 input.sk-toggleable__control:checked~label.sk-toggleable__label-arrow:before {content: \"▾\";}#sk-container-id-1 div.sk-estimator input.sk-toggleable__control:checked~label.sk-toggleable__label {background-color: #d4ebff;}#sk-container-id-1 div.sk-label input.sk-toggleable__control:checked~label.sk-toggleable__label {background-color: #d4ebff;}#sk-container-id-1 input.sk-hidden--visually {border: 0;clip: rect(1px 1px 1px 1px);clip: rect(1px, 1px, 1px, 1px);height: 1px;margin: -1px;overflow: hidden;padding: 0;position: absolute;width: 1px;}#sk-container-id-1 div.sk-estimator {font-family: monospace;background-color: #f0f8ff;border: 1px dotted black;border-radius: 0.25em;box-sizing: border-box;margin-bottom: 0.5em;}#sk-container-id-1 div.sk-estimator:hover {background-color: #d4ebff;}#sk-container-id-1 div.sk-parallel-item::after {content: \"\";width: 100%;border-bottom: 1px solid gray;flex-grow: 1;}#sk-container-id-1 div.sk-label:hover label.sk-toggleable__label {background-color: #d4ebff;}#sk-container-id-1 div.sk-serial::before {content: \"\";position: absolute;border-left: 1px solid gray;box-sizing: border-box;top: 0;bottom: 0;left: 50%;z-index: 0;}#sk-container-id-1 div.sk-serial {display: flex;flex-direction: column;align-items: center;background-color: white;padding-right: 0.2em;padding-left: 0.2em;position: relative;}#sk-container-id-1 div.sk-item {position: relative;z-index: 1;}#sk-container-id-1 div.sk-parallel {display: flex;align-items: stretch;justify-content: center;background-color: white;position: relative;}#sk-container-id-1 div.sk-item::before, #sk-container-id-1 div.sk-parallel-item::before {content: \"\";position: absolute;border-left: 1px solid gray;box-sizing: border-box;top: 0;bottom: 0;left: 50%;z-index: -1;}#sk-container-id-1 div.sk-parallel-item {display: flex;flex-direction: column;z-index: 1;position: relative;background-color: white;}#sk-container-id-1 div.sk-parallel-item:first-child::after {align-self: flex-end;width: 50%;}#sk-container-id-1 div.sk-parallel-item:last-child::after {align-self: flex-start;width: 50%;}#sk-container-id-1 div.sk-parallel-item:only-child::after {width: 0;}#sk-container-id-1 div.sk-dashed-wrapped {border: 1px dashed gray;margin: 0 0.4em 0.5em 0.4em;box-sizing: border-box;padding-bottom: 0.4em;background-color: white;}#sk-container-id-1 div.sk-label label {font-family: monospace;font-weight: bold;display: inline-block;line-height: 1.2em;}#sk-container-id-1 div.sk-label-container {text-align: center;}#sk-container-id-1 div.sk-container {/* jupyter's `normalize.less` sets `[hidden] { display: none; }` but bootstrap.min.css set `[hidden] { display: none !important; }` so we also need the `!important` here to be able to override the default hidden behavior on the sphinx rendered scikit-learn.org. See: https://github.com/scikit-learn/scikit-learn/issues/21755 */display: inline-block !important;position: relative;}#sk-container-id-1 div.sk-text-repr-fallback {display: none;}</style><div id=\"sk-container-id-1\" class=\"sk-top-container\"><div class=\"sk-text-repr-fallback\"><pre>KNeighborsClassifier()</pre><b>In a Jupyter environment, please rerun this cell to show the HTML representation or trust the notebook. <br />On GitHub, the HTML representation is unable to render, please try loading this page with nbviewer.org.</b></div><div class=\"sk-container\" hidden><div class=\"sk-item\"><div class=\"sk-estimator sk-toggleable\"><input class=\"sk-toggleable__control sk-hidden--visually\" id=\"sk-estimator-id-1\" type=\"checkbox\" checked><label for=\"sk-estimator-id-1\" class=\"sk-toggleable__label sk-toggleable__label-arrow\">KNeighborsClassifier</label><div class=\"sk-toggleable__content\"><pre>KNeighborsClassifier()</pre></div></div></div></div></div>"
      ],
      "text/plain": [
       "KNeighborsClassifier()"
      ]
     },
     "execution_count": 28,
     "metadata": {},
     "output_type": "execute_result"
    }
   ],
   "source": [
    "kNN_5.fit(X_train, y_train)"
   ]
  },
  {
   "cell_type": "code",
   "execution_count": 29,
   "id": "4030917c-b45f-4dfe-a197-33ea8782c0a6",
   "metadata": {},
   "outputs": [],
   "source": [
    "y_pred_kNN = kNN_5.predict(X_test)"
   ]
  },
  {
   "cell_type": "code",
   "execution_count": 30,
   "id": "c90b563e-b888-4a4f-95a5-d03f73350ec9",
   "metadata": {},
   "outputs": [
    {
     "name": "stdout",
     "output_type": "stream",
     "text": [
      "The test macro f1-score of decision tree on the dataset is:  0.9680937669986651\n"
     ]
    }
   ],
   "source": [
    "# when k=5，f1-score\n",
    "f1_kNN = metrics.f1_score(y_test, y_pred_kNN, average='macro') \n",
    "print(\"The test macro f1-score of decision tree on the dataset is: \", f1_kNN)"
   ]
  },
  {
   "cell_type": "code",
   "execution_count": 31,
   "id": "2bc6e7ae-c2fe-41d4-9510-be275de8da7f",
   "metadata": {},
   "outputs": [
    {
     "name": "stdout",
     "output_type": "stream",
     "text": [
      "{'n_neighbors': 17}\n"
     ]
    }
   ],
   "source": [
    "# find the best k value using CV\n",
    "parameters = [{'n_neighbors': [int(x) for x in np.arange(1, 22, 2)]}]\n",
    "kNN = KNeighborsClassifier()\n",
    "clf_best_kNN = GridSearchCV(kNN, parameters, cv=5, scoring='f1_macro') \n",
    "clf_best_kNN.fit(X_train, y_train) \n",
    "print(clf_best_kNN.best_params_)"
   ]
  },
  {
   "cell_type": "code",
   "execution_count": 32,
   "id": "3d002b18-e9a3-4065-962e-44f305136fdb",
   "metadata": {},
   "outputs": [],
   "source": [
    "# best k value is 17"
   ]
  },
  {
   "cell_type": "code",
   "execution_count": 33,
   "id": "65898440-ff9c-4358-b79c-7c8157932954",
   "metadata": {},
   "outputs": [
    {
     "name": "stdout",
     "output_type": "stream",
     "text": [
      "The cross-validation f1-score is:0.97206280591591\n"
     ]
    }
   ],
   "source": [
    "kNN_17 = KNeighborsClassifier(n_neighbors = 17) \n",
    "f1_kNN_17 = cross_val_score(kNN_17, X_train, y_train, cv=5, scoring=('f1_macro')) \n",
    "print(\"The cross-validation f1-score is:{:}\".format( f1_kNN_17.mean()))"
   ]
  },
  {
   "cell_type": "code",
   "execution_count": 34,
   "id": "a762927e-04cf-478a-ac26-8642fe10c0e5",
   "metadata": {},
   "outputs": [
    {
     "data": {
      "text/html": [
       "<style>#sk-container-id-2 {color: black;}#sk-container-id-2 pre{padding: 0;}#sk-container-id-2 div.sk-toggleable {background-color: white;}#sk-container-id-2 label.sk-toggleable__label {cursor: pointer;display: block;width: 100%;margin-bottom: 0;padding: 0.3em;box-sizing: border-box;text-align: center;}#sk-container-id-2 label.sk-toggleable__label-arrow:before {content: \"▸\";float: left;margin-right: 0.25em;color: #696969;}#sk-container-id-2 label.sk-toggleable__label-arrow:hover:before {color: black;}#sk-container-id-2 div.sk-estimator:hover label.sk-toggleable__label-arrow:before {color: black;}#sk-container-id-2 div.sk-toggleable__content {max-height: 0;max-width: 0;overflow: hidden;text-align: left;background-color: #f0f8ff;}#sk-container-id-2 div.sk-toggleable__content pre {margin: 0.2em;color: black;border-radius: 0.25em;background-color: #f0f8ff;}#sk-container-id-2 input.sk-toggleable__control:checked~div.sk-toggleable__content {max-height: 200px;max-width: 100%;overflow: auto;}#sk-container-id-2 input.sk-toggleable__control:checked~label.sk-toggleable__label-arrow:before {content: \"▾\";}#sk-container-id-2 div.sk-estimator input.sk-toggleable__control:checked~label.sk-toggleable__label {background-color: #d4ebff;}#sk-container-id-2 div.sk-label input.sk-toggleable__control:checked~label.sk-toggleable__label {background-color: #d4ebff;}#sk-container-id-2 input.sk-hidden--visually {border: 0;clip: rect(1px 1px 1px 1px);clip: rect(1px, 1px, 1px, 1px);height: 1px;margin: -1px;overflow: hidden;padding: 0;position: absolute;width: 1px;}#sk-container-id-2 div.sk-estimator {font-family: monospace;background-color: #f0f8ff;border: 1px dotted black;border-radius: 0.25em;box-sizing: border-box;margin-bottom: 0.5em;}#sk-container-id-2 div.sk-estimator:hover {background-color: #d4ebff;}#sk-container-id-2 div.sk-parallel-item::after {content: \"\";width: 100%;border-bottom: 1px solid gray;flex-grow: 1;}#sk-container-id-2 div.sk-label:hover label.sk-toggleable__label {background-color: #d4ebff;}#sk-container-id-2 div.sk-serial::before {content: \"\";position: absolute;border-left: 1px solid gray;box-sizing: border-box;top: 0;bottom: 0;left: 50%;z-index: 0;}#sk-container-id-2 div.sk-serial {display: flex;flex-direction: column;align-items: center;background-color: white;padding-right: 0.2em;padding-left: 0.2em;position: relative;}#sk-container-id-2 div.sk-item {position: relative;z-index: 1;}#sk-container-id-2 div.sk-parallel {display: flex;align-items: stretch;justify-content: center;background-color: white;position: relative;}#sk-container-id-2 div.sk-item::before, #sk-container-id-2 div.sk-parallel-item::before {content: \"\";position: absolute;border-left: 1px solid gray;box-sizing: border-box;top: 0;bottom: 0;left: 50%;z-index: -1;}#sk-container-id-2 div.sk-parallel-item {display: flex;flex-direction: column;z-index: 1;position: relative;background-color: white;}#sk-container-id-2 div.sk-parallel-item:first-child::after {align-self: flex-end;width: 50%;}#sk-container-id-2 div.sk-parallel-item:last-child::after {align-self: flex-start;width: 50%;}#sk-container-id-2 div.sk-parallel-item:only-child::after {width: 0;}#sk-container-id-2 div.sk-dashed-wrapped {border: 1px dashed gray;margin: 0 0.4em 0.5em 0.4em;box-sizing: border-box;padding-bottom: 0.4em;background-color: white;}#sk-container-id-2 div.sk-label label {font-family: monospace;font-weight: bold;display: inline-block;line-height: 1.2em;}#sk-container-id-2 div.sk-label-container {text-align: center;}#sk-container-id-2 div.sk-container {/* jupyter's `normalize.less` sets `[hidden] { display: none; }` but bootstrap.min.css set `[hidden] { display: none !important; }` so we also need the `!important` here to be able to override the default hidden behavior on the sphinx rendered scikit-learn.org. See: https://github.com/scikit-learn/scikit-learn/issues/21755 */display: inline-block !important;position: relative;}#sk-container-id-2 div.sk-text-repr-fallback {display: none;}</style><div id=\"sk-container-id-2\" class=\"sk-top-container\"><div class=\"sk-text-repr-fallback\"><pre>KNeighborsClassifier(n_neighbors=17)</pre><b>In a Jupyter environment, please rerun this cell to show the HTML representation or trust the notebook. <br />On GitHub, the HTML representation is unable to render, please try loading this page with nbviewer.org.</b></div><div class=\"sk-container\" hidden><div class=\"sk-item\"><div class=\"sk-estimator sk-toggleable\"><input class=\"sk-toggleable__control sk-hidden--visually\" id=\"sk-estimator-id-2\" type=\"checkbox\" checked><label for=\"sk-estimator-id-2\" class=\"sk-toggleable__label sk-toggleable__label-arrow\">KNeighborsClassifier</label><div class=\"sk-toggleable__content\"><pre>KNeighborsClassifier(n_neighbors=17)</pre></div></div></div></div></div>"
      ],
      "text/plain": [
       "KNeighborsClassifier(n_neighbors=17)"
      ]
     },
     "execution_count": 34,
     "metadata": {},
     "output_type": "execute_result"
    }
   ],
   "source": [
    "kNN_17.fit(X_train, y_train)"
   ]
  },
  {
   "cell_type": "code",
   "execution_count": 35,
   "id": "244cc2df-daa8-4626-82a5-3b7a4d1fbbbb",
   "metadata": {},
   "outputs": [],
   "source": [
    "y_pred_kNN_17 = kNN_17.predict(X_test)"
   ]
  },
  {
   "cell_type": "code",
   "execution_count": 36,
   "id": "68c9c530-e6f4-449a-9189-2b8f93d99077",
   "metadata": {},
   "outputs": [
    {
     "name": "stdout",
     "output_type": "stream",
     "text": [
      "The test macro f1-score of decision tree on the dataset is:  0.9680937669986651\n"
     ]
    }
   ],
   "source": [
    "f1_kNN_17 = metrics.f1_score(y_test, y_pred_kNN_17, average='macro') \n",
    "print(\"The test macro f1-score of decision tree on the dataset is: \", f1_kNN_17)"
   ]
  },
  {
   "cell_type": "code",
   "execution_count": 37,
   "id": "c81bab31-1372-46ff-abed-ccdc6d6ea8c4",
   "metadata": {},
   "outputs": [],
   "source": [
    "# Naive Bayse "
   ]
  },
  {
   "cell_type": "code",
   "execution_count": 38,
   "id": "26ab4afd-9e09-4008-ba05-64b9dc145c2e",
   "metadata": {},
   "outputs": [
    {
     "data": {
      "text/html": [
       "<style>#sk-container-id-3 {color: black;}#sk-container-id-3 pre{padding: 0;}#sk-container-id-3 div.sk-toggleable {background-color: white;}#sk-container-id-3 label.sk-toggleable__label {cursor: pointer;display: block;width: 100%;margin-bottom: 0;padding: 0.3em;box-sizing: border-box;text-align: center;}#sk-container-id-3 label.sk-toggleable__label-arrow:before {content: \"▸\";float: left;margin-right: 0.25em;color: #696969;}#sk-container-id-3 label.sk-toggleable__label-arrow:hover:before {color: black;}#sk-container-id-3 div.sk-estimator:hover label.sk-toggleable__label-arrow:before {color: black;}#sk-container-id-3 div.sk-toggleable__content {max-height: 0;max-width: 0;overflow: hidden;text-align: left;background-color: #f0f8ff;}#sk-container-id-3 div.sk-toggleable__content pre {margin: 0.2em;color: black;border-radius: 0.25em;background-color: #f0f8ff;}#sk-container-id-3 input.sk-toggleable__control:checked~div.sk-toggleable__content {max-height: 200px;max-width: 100%;overflow: auto;}#sk-container-id-3 input.sk-toggleable__control:checked~label.sk-toggleable__label-arrow:before {content: \"▾\";}#sk-container-id-3 div.sk-estimator input.sk-toggleable__control:checked~label.sk-toggleable__label {background-color: #d4ebff;}#sk-container-id-3 div.sk-label input.sk-toggleable__control:checked~label.sk-toggleable__label {background-color: #d4ebff;}#sk-container-id-3 input.sk-hidden--visually {border: 0;clip: rect(1px 1px 1px 1px);clip: rect(1px, 1px, 1px, 1px);height: 1px;margin: -1px;overflow: hidden;padding: 0;position: absolute;width: 1px;}#sk-container-id-3 div.sk-estimator {font-family: monospace;background-color: #f0f8ff;border: 1px dotted black;border-radius: 0.25em;box-sizing: border-box;margin-bottom: 0.5em;}#sk-container-id-3 div.sk-estimator:hover {background-color: #d4ebff;}#sk-container-id-3 div.sk-parallel-item::after {content: \"\";width: 100%;border-bottom: 1px solid gray;flex-grow: 1;}#sk-container-id-3 div.sk-label:hover label.sk-toggleable__label {background-color: #d4ebff;}#sk-container-id-3 div.sk-serial::before {content: \"\";position: absolute;border-left: 1px solid gray;box-sizing: border-box;top: 0;bottom: 0;left: 50%;z-index: 0;}#sk-container-id-3 div.sk-serial {display: flex;flex-direction: column;align-items: center;background-color: white;padding-right: 0.2em;padding-left: 0.2em;position: relative;}#sk-container-id-3 div.sk-item {position: relative;z-index: 1;}#sk-container-id-3 div.sk-parallel {display: flex;align-items: stretch;justify-content: center;background-color: white;position: relative;}#sk-container-id-3 div.sk-item::before, #sk-container-id-3 div.sk-parallel-item::before {content: \"\";position: absolute;border-left: 1px solid gray;box-sizing: border-box;top: 0;bottom: 0;left: 50%;z-index: -1;}#sk-container-id-3 div.sk-parallel-item {display: flex;flex-direction: column;z-index: 1;position: relative;background-color: white;}#sk-container-id-3 div.sk-parallel-item:first-child::after {align-self: flex-end;width: 50%;}#sk-container-id-3 div.sk-parallel-item:last-child::after {align-self: flex-start;width: 50%;}#sk-container-id-3 div.sk-parallel-item:only-child::after {width: 0;}#sk-container-id-3 div.sk-dashed-wrapped {border: 1px dashed gray;margin: 0 0.4em 0.5em 0.4em;box-sizing: border-box;padding-bottom: 0.4em;background-color: white;}#sk-container-id-3 div.sk-label label {font-family: monospace;font-weight: bold;display: inline-block;line-height: 1.2em;}#sk-container-id-3 div.sk-label-container {text-align: center;}#sk-container-id-3 div.sk-container {/* jupyter's `normalize.less` sets `[hidden] { display: none; }` but bootstrap.min.css set `[hidden] { display: none !important; }` so we also need the `!important` here to be able to override the default hidden behavior on the sphinx rendered scikit-learn.org. See: https://github.com/scikit-learn/scikit-learn/issues/21755 */display: inline-block !important;position: relative;}#sk-container-id-3 div.sk-text-repr-fallback {display: none;}</style><div id=\"sk-container-id-3\" class=\"sk-top-container\"><div class=\"sk-text-repr-fallback\"><pre>GaussianNB()</pre><b>In a Jupyter environment, please rerun this cell to show the HTML representation or trust the notebook. <br />On GitHub, the HTML representation is unable to render, please try loading this page with nbviewer.org.</b></div><div class=\"sk-container\" hidden><div class=\"sk-item\"><div class=\"sk-estimator sk-toggleable\"><input class=\"sk-toggleable__control sk-hidden--visually\" id=\"sk-estimator-id-3\" type=\"checkbox\" checked><label for=\"sk-estimator-id-3\" class=\"sk-toggleable__label sk-toggleable__label-arrow\">GaussianNB</label><div class=\"sk-toggleable__content\"><pre>GaussianNB()</pre></div></div></div></div></div>"
      ],
      "text/plain": [
       "GaussianNB()"
      ]
     },
     "execution_count": 38,
     "metadata": {},
     "output_type": "execute_result"
    }
   ],
   "source": [
    "gnb = GaussianNB()\n",
    "gnb.fit(X_train, y_train)"
   ]
  },
  {
   "cell_type": "code",
   "execution_count": 39,
   "id": "3fee0cbc-e568-45a4-a8cd-e1f1085ffbdd",
   "metadata": {},
   "outputs": [
    {
     "name": "stdout",
     "output_type": "stream",
     "text": [
      "The cross-validation accuracy is: 0.9231527093596059\n",
      "The cross-validation f1-score is:0.9093896189531643\n"
     ]
    }
   ],
   "source": [
    "# 5-folder cross validation\n",
    "acc_gnb = cross_val_score(gnb, X_train, y_train, cv=5, scoring=('accuracy')) \n",
    "f1_gnb = cross_val_score(gnb, X_train, y_train, cv=5, scoring=('f1_macro')) \n",
    "print(\"The cross-validation accuracy is: {:}\\nThe cross-validation f1-score is:{:}\".format(acc_gnb.mean(), f1_gnb.mean()))"
   ]
  },
  {
   "cell_type": "code",
   "execution_count": 40,
   "id": "ef953e78-0880-4ecc-8866-46db4ad15699",
   "metadata": {},
   "outputs": [],
   "source": [
    "y_pred_gnb = gnb.predict(X_test)"
   ]
  },
  {
   "cell_type": "code",
   "execution_count": 41,
   "id": "fec3e869-7e39-4358-b8f1-7d8ee5805c57",
   "metadata": {},
   "outputs": [
    {
     "name": "stdout",
     "output_type": "stream",
     "text": [
      "The test macro f1-score of decision tree on the dataset is:  0.8854186745009981\n"
     ]
    }
   ],
   "source": [
    "# f1-score\n",
    "f1_gnb = metrics.f1_score(y_test, y_pred_gnb, average='macro') \n",
    "print(\"The test macro f1-score of decision tree on the dataset is: \", f1_gnb)"
   ]
  },
  {
   "cell_type": "code",
   "execution_count": 42,
   "id": "710a4fbb-c098-43f7-9042-a8ac5db72b0e",
   "metadata": {},
   "outputs": [],
   "source": [
    "y_pred_gnb = y_pred_gnb.astype(int)  # Convert the array to integers\n",
    "\n",
    "# Create a DataFrame from the NumPy array\n",
    "df_y_pred_gnb = pd.DataFrame({'Index': range(len(y_pred_gnb)), 'Predictions': y_pred_gnb})\n",
    "\n",
    "# Save the DataFrame to a CSV file without the header\n",
    "# df_y_pred_gnb.to_csv('NB_result_test.csv', header=False, index=False)"
   ]
  },
  {
   "cell_type": "code",
   "execution_count": 43,
   "id": "d4d78a09-71a6-4879-a5d0-e305f19a7c0f",
   "metadata": {},
   "outputs": [
    {
     "name": "stdout",
     "output_type": "stream",
     "text": [
      "Average Ensemble Accuracy: 0.979\n",
      "Average Ensemble F1-Score: 0.972\n"
     ]
    }
   ],
   "source": [
    "# Calculate the CV accuracy and f1-score for the report\n",
    "\n",
    "rf_accuracy = cross_val_score(rf, X_train, y_train, cv=5, scoring='accuracy')\n",
    "rf_f1 = cross_val_score(rf, X_train, y_train, cv=5, scoring='f1_macro')\n",
    "\n",
    "kNN_17_accuracy = cross_val_score(kNN_17, X_train, y_train, cv=5, scoring='accuracy')\n",
    "kNN_17_f1 = cross_val_score(kNN_17, X_train, y_train, cv=5, scoring='f1_macro')\n",
    "\n",
    "gnb_accuracy = cross_val_score(gnb, X_train, y_train, cv=5, scoring='accuracy')\n",
    "gnb_f1 = cross_val_score(gnb, X_train, y_train, cv=5, scoring='f1_macro')\n",
    "\n",
    "ensemble_accuracy = []\n",
    "ensemble_f1 = []\n",
    "\n",
    "for fold in range(5): # n folds=5\n",
    "    y_pred_rf = cross_val_predict(rf, X_train, y_train, cv=5)\n",
    "    y_pred_kNN_17 = cross_val_predict(kNN_17, X_train, y_train, cv=5)\n",
    "    y_pred_gnb = cross_val_predict(gnb, X_train, y_train, cv=5)\n",
    "    \n",
    "    # Combine predictions (majority voting)\n",
    "    ensemble_predictions = np.apply_along_axis(lambda x: int(np.median(x)), axis=0, arr=[y_pred_rf, y_pred_kNN_17, y_pred_gnb])\n",
    "\n",
    "    # Calculate accuracy and F1-score for the ensemble within each fold\n",
    "    ensemble_accuracy.append(accuracy_score(y_train, ensemble_predictions))\n",
    "    ensemble_f1.append(f1_score(y_train, ensemble_predictions, average='macro'))\n",
    "\n",
    "# Calculate the average accuracy and F1-score for the ensemble model, round to 3 decimals \n",
    "average_ensemble_accuracy = round(sum(ensemble_accuracy) / 5,3)\n",
    "average_ensemble_f1 = round(sum(ensemble_f1) / 5,3)\n",
    "\n",
    "print(\"Average Ensemble Accuracy:\", average_ensemble_accuracy)\n",
    "print(\"Average Ensemble F1-Score:\", average_ensemble_f1)"
   ]
  },
  {
   "cell_type": "code",
   "execution_count": 44,
   "id": "2cad901e-460a-495e-81bb-0ae3ab634e56",
   "metadata": {},
   "outputs": [],
   "source": [
    "# Training END"
   ]
  },
  {
   "cell_type": "code",
   "execution_count": 45,
   "id": "6ccd6da6-9d28-42d8-af7e-c0fc15b7969c",
   "metadata": {},
   "outputs": [],
   "source": [
    "# Prediction START "
   ]
  },
  {
   "cell_type": "code",
   "execution_count": 46,
   "id": "44ca5671-d290-4d8e-b79a-376c4558fbe8",
   "metadata": {},
   "outputs": [],
   "source": [
    "df_ftest= pd.read_csv('test.csv')\n",
    "# print(df_ftest.info())\n",
    "# print(df_ftest.describe())\n",
    "# y_ftest = df_ftest.iloc[:,-1].values  # label col\n",
    "X_num_ftest = df_ftest.iloc[:,:100].values #numerical cols \n",
    "X_nom_ftest = df_ftest.iloc[:,100:].values #nominal cols "
   ]
  },
  {
   "cell_type": "code",
   "execution_count": 47,
   "id": "a9be9903-85eb-4f77-89dc-db3c4ca272f9",
   "metadata": {},
   "outputs": [
    {
     "name": "stdout",
     "output_type": "stream",
     "text": [
      "300\n",
      "128\n"
     ]
    }
   ],
   "source": [
    "# pre-processing method same with training: normalisatin for numerical cols; one-hot encoding for nominal cols.\n",
    "\n",
    "# 1. standardization numerical features\n",
    "# scaler = StandardScaler() \n",
    "# scaler.fit(X_num_train) \n",
    "X_num_ftest = scaler.transform(X_num_ftest)\n",
    "# train set and test set's standardisation are all baseed on train set.\n",
    "X_ftest = np.concatenate((X_num_ftest, X_nom_ftest), axis = 1)\n",
    "print(len(X_ftest))\n",
    "print(X_ftest.shape[1])\n",
    "\n",
    "df_x_ftest=pd.DataFrame(X_ftest, columns=feature_column_names)\n",
    "# df_ftest=pd.concat([df_x_ftest, df_y_test], axis=1)\n"
   ]
  },
  {
   "cell_type": "code",
   "execution_count": 48,
   "id": "3a0b6298-084e-4c82-8a16-cb5c9d1862d7",
   "metadata": {},
   "outputs": [],
   "source": [
    "# 2. one-hot encoding for nominal cols.\n",
    "# for nominal features\n",
    "nominal_columns_f = list(range(100, 128)) #nominal features from col_100 to col_127\n",
    "\n",
    "ohe_f=OneHotEncoder()\n",
    "encoded_features_f = pd.DataFrame() \n",
    "for column_index in nominal_columns_f:\n",
    "    # Encode the current (nominal) column\n",
    "    feature_array_f = ohe_f.fit_transform(df_x_ftest.iloc[:, column_index].to_frame()).toarray()\n",
    "    feature_labels_f = [f'col_{column_index}_{i}' for i in range(feature_array_f.shape[1])]\n",
    "    encoded_column_f = pd.DataFrame(feature_array_f, columns=feature_labels_f)\n",
    "    encoded_features_f = pd.concat([encoded_features_f, encoded_column_f], axis=1)\n",
    "\n",
    "df_x_ftest=pd.concat([df_x_ftest.iloc[:,:100],encoded_features_f],axis = 1)\n",
    "# print(encoded_features_f.info()) "
   ]
  },
  {
   "cell_type": "code",
   "execution_count": 49,
   "id": "544db714-405c-4112-8b62-82fa833b1e2e",
   "metadata": {},
   "outputs": [],
   "source": [
    "# print(df_x_ftest.head(10))\n",
    "# print(df_x_ftest.info())"
   ]
  },
  {
   "cell_type": "code",
   "execution_count": 50,
   "id": "7b3cb309-7d63-47a2-8f84-3f9245be0af5",
   "metadata": {},
   "outputs": [],
   "source": [
    "x_ftest = df_x_ftest.iloc[:,:186].values  #all the columns values except the label\n",
    "# print(x_ftest)"
   ]
  },
  {
   "cell_type": "code",
   "execution_count": 51,
   "id": "ec9ec96d-0b3f-4f51-a63c-80685d947652",
   "metadata": {},
   "outputs": [],
   "source": [
    "#decision tree\n",
    "dt_result = dt.predict(x_ftest)\n",
    "# print(dt_result)"
   ]
  },
  {
   "cell_type": "code",
   "execution_count": 52,
   "id": "7123dd0a-6c52-4953-ba1f-2c53ac350ec4",
   "metadata": {},
   "outputs": [],
   "source": [
    "# random forest \n",
    "rf_result = rf.predict(x_ftest)\n",
    "y_pred_rf = rf.predict(X_test)\n",
    "# print(rf_result)\n",
    "# print(y_pred_rf)"
   ]
  },
  {
   "cell_type": "code",
   "execution_count": 53,
   "id": "e6520be7-5f4d-477f-af97-af32d6e1b601",
   "metadata": {},
   "outputs": [],
   "source": [
    "# k17-nn\n",
    "knn17_result = kNN_17.predict(x_ftest)\n",
    "# print(knn17_result)"
   ]
  },
  {
   "cell_type": "code",
   "execution_count": 54,
   "id": "d9e048de-0bd6-4a7b-9243-1665fcb9af1b",
   "metadata": {},
   "outputs": [],
   "source": [
    "# naive bayse\n",
    "nb_result = gnb.predict(x_ftest)\n",
    "# print(nb_result)"
   ]
  },
  {
   "cell_type": "code",
   "execution_count": 55,
   "id": "3ca54cbb-2d05-4c02-9886-93e484dbcb57",
   "metadata": {},
   "outputs": [],
   "source": [
    "# based on the f1-score, choose random forest, k17-nn, and naive bayse for assembling "
   ]
  },
  {
   "cell_type": "code",
   "execution_count": 56,
   "id": "2fceaa96-a17a-447e-898b-be536b38c20f",
   "metadata": {},
   "outputs": [],
   "source": [
    "# stack the three results (using numpy.vstack)\n",
    "stacked_results = np.vstack((rf_result, knn17_result, nb_result))\n",
    "\n",
    "# Find the mode (most frequent element)\n",
    "most_common = [Counter(column).most_common(1)[0][0] for column in stacked_results.T]\n",
    "# print(most_common)"
   ]
  },
  {
   "cell_type": "code",
   "execution_count": 57,
   "id": "30a318af-572f-42d0-a934-ef002bbc1b10",
   "metadata": {},
   "outputs": [],
   "source": [
    "# # export random forest results\n",
    "# df_rf_result=pd.DataFrame(rf_result)\n",
    "# df_rf_result.to_csv('df_rf_result.csv', header=False, index=True, )\n",
    "# # export knn-17 results\n",
    "# df_knn17_result=pd.DataFrame(knn17_result)\n",
    "# df_knn17_result.to_csv('df_knn17_result.csv', header=False, index=True, )\n",
    "# # export naive bayse results\n",
    "# df_nb_result=pd.DataFrame(nb_result)\n",
    "# df_nb_result.to_csv('df_nb_result.csv', header=False, index=True, )\n",
    "# # stacked results\n",
    "# df_stacked_result=pd.DataFrame(stacked_results)\n",
    "# df_stacked_result.to_csv('df_stacked_result.csv', header=False, index=True, )\n",
    "\n",
    "# export the final result\n",
    "most_common = [int(item) for item in most_common]  # Convert the most_common (from array) to integer \n",
    "df_final_result=pd.DataFrame(most_common)\n",
    "# df_final_result.reset_index(level=0, inplace=True)\n",
    "new_row = pd.DataFrame({'index': [\"0.972\"], 0: [\"0.979\"]})\n",
    "df_final_result = pd.concat([df_final_result, new_row], ignore_index=True,axis=0)\n",
    "df_final_result.to_csv('s4797016.csv', header=False, index=False, )"
   ]
  },
  {
   "cell_type": "code",
   "execution_count": 58,
   "id": "8b473cae-0101-44a4-ad43-73892a8b1ffa",
   "metadata": {},
   "outputs": [],
   "source": [
    "# print(df_final_result.info)"
   ]
  },
  {
   "cell_type": "code",
   "execution_count": 59,
   "id": "89b07e9d-1e41-4349-a744-0d4e99c33153",
   "metadata": {},
   "outputs": [],
   "source": [
    "# reference\n",
    "# INFS7202 teaching team, the INFS7203 course codeing guide."
   ]
  }
 ],
 "metadata": {
  "kernelspec": {
   "display_name": "Python 3 (ipykernel)",
   "language": "python",
   "name": "python3"
  },
  "language_info": {
   "codemirror_mode": {
    "name": "ipython",
    "version": 3
   },
   "file_extension": ".py",
   "mimetype": "text/x-python",
   "name": "python",
   "nbconvert_exporter": "python",
   "pygments_lexer": "ipython3",
   "version": "3.11.2"
  }
 },
 "nbformat": 4,
 "nbformat_minor": 5
}
